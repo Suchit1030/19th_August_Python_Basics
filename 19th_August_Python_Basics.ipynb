{
 "cells": [
  {
   "cell_type": "code",
   "execution_count": 1,
   "id": "9238895d-c846-47c4-bd31-8d99dfc2dfd2",
   "metadata": {},
   "outputs": [],
   "source": [
    "# Declare two variables x and y\n",
    "x=10\n",
    "y= 20\n"
   ]
  },
  {
   "cell_type": "code",
   "execution_count": 2,
   "id": "0836ee38-2656-41ee-aca5-7cb8a3d72de4",
   "metadata": {},
   "outputs": [],
   "source": [
    "x,y =20,10"
   ]
  },
  {
   "cell_type": "code",
   "execution_count": 4,
   "id": "75a4c6e1-3c91-43b8-b735-955c8746070b",
   "metadata": {},
   "outputs": [
    {
     "data": {
      "text/plain": [
       "(20, 10)"
      ]
     },
     "execution_count": 4,
     "metadata": {},
     "output_type": "execute_result"
    }
   ],
   "source": [
    "x,y"
   ]
  },
  {
   "cell_type": "code",
   "execution_count": 5,
   "id": "3bff97dd-be13-485f-b6a4-3bfee90b65d0",
   "metadata": {},
   "outputs": [
    {
     "name": "stdin",
     "output_type": "stream",
     "text": [
      "Enter the length of the rectangle:  5\n",
      "Enter the width of the rectangle:  6\n"
     ]
    }
   ],
   "source": [
    "# Get user inputs for length and width\n",
    "length = float(input(\"Enter the length of the rectangle: \"))\n",
    "width = float(input(\"Enter the width of the rectangle: \"))"
   ]
  },
  {
   "cell_type": "code",
   "execution_count": 6,
   "id": "81919ac9-4c9f-45f4-836b-376025b6779a",
   "metadata": {},
   "outputs": [],
   "source": [
    "# Area of the rectangle\n",
    "area = length * width"
   ]
  },
  {
   "cell_type": "code",
   "execution_count": 7,
   "id": "d428199d-c51b-43a9-a1af-a5f91d884798",
   "metadata": {},
   "outputs": [
    {
     "data": {
      "text/plain": [
       "30.0"
      ]
     },
     "execution_count": 7,
     "metadata": {},
     "output_type": "execute_result"
    }
   ],
   "source": [
    "area"
   ]
  },
  {
   "cell_type": "code",
   "execution_count": 8,
   "id": "de05c194-71f7-4395-96cc-9313368871cd",
   "metadata": {},
   "outputs": [
    {
     "name": "stdin",
     "output_type": "stream",
     "text": [
      "Enter temperature in Celsius:  100\n"
     ]
    }
   ],
   "source": [
    "# Get user input for temperature in Celsius\n",
    "celsius = float(input(\"Enter temperature in Celsius: \"))\n"
   ]
  },
  {
   "cell_type": "code",
   "execution_count": 9,
   "id": "be409c17-30e3-4aba-a0cb-129185a13d94",
   "metadata": {},
   "outputs": [],
   "source": [
    "# Convert Celsius to Fahrenheit\n",
    "fahrenheit = (celsius * 9/5) + 32"
   ]
  },
  {
   "cell_type": "code",
   "execution_count": 10,
   "id": "401e4261-83f1-4137-ba39-35d1b0feb50b",
   "metadata": {},
   "outputs": [
    {
     "data": {
      "text/plain": [
       "212.0"
      ]
     },
     "execution_count": 10,
     "metadata": {},
     "output_type": "execute_result"
    }
   ],
   "source": [
    "fahrenheit"
   ]
  },
  {
   "cell_type": "code",
   "execution_count": 11,
   "id": "6430bbcd-7ccf-424e-8e62-a194bb1aaf50",
   "metadata": {},
   "outputs": [
    {
     "name": "stdin",
     "output_type": "stream",
     "text": [
      "Enter a string Suchit\n"
     ]
    }
   ],
   "source": [
    "# Get user input for string\n",
    "S = input(\"Enter a string\")\n"
   ]
  },
  {
   "cell_type": "code",
   "execution_count": 12,
   "id": "071ef7fb-9edf-4540-96ea-a5af24d69793",
   "metadata": {},
   "outputs": [
    {
     "data": {
      "text/plain": [
       "6"
      ]
     },
     "execution_count": 12,
     "metadata": {},
     "output_type": "execute_result"
    }
   ],
   "source": [
    "# get the length of the string\n",
    "len(S)"
   ]
  },
  {
   "cell_type": "code",
   "execution_count": 13,
   "id": "cba8ea09-6b52-44e8-9e91-d30deec9aecf",
   "metadata": {},
   "outputs": [
    {
     "name": "stdin",
     "output_type": "stream",
     "text": [
      "Enter a sentence:  Hello world\n"
     ]
    }
   ],
   "source": [
    "# Get user input for a sentence\n",
    "sentence = input(\"Enter a sentence: \")"
   ]
  },
  {
   "cell_type": "code",
   "execution_count": 14,
   "id": "9aaca3bb-9d1e-4218-a62a-d7e7c3a8435d",
   "metadata": {},
   "outputs": [],
   "source": [
    "# Define a function to count vowels\n",
    "def count_vowels(text):\n",
    "    vowels = \"aeiouAEIOU\"\n",
    "    vowel_count = 0\n",
    "    \n",
    "    for char in text:\n",
    "        if char in vowels:\n",
    "            vowel_count += 1\n",
    "    \n",
    "    return vowel_count"
   ]
  },
  {
   "cell_type": "code",
   "execution_count": 15,
   "id": "abbae1a4-3c5a-4430-b2f4-d97130d96faa",
   "metadata": {},
   "outputs": [
    {
     "name": "stdout",
     "output_type": "stream",
     "text": [
      "Number of vowels in the sentence: 3\n"
     ]
    }
   ],
   "source": [
    "# Call the function and display the result\n",
    "vowel_count = count_vowels(sentence)\n",
    "print(\"Number of vowels in the sentence:\", vowel_count)"
   ]
  },
  {
   "cell_type": "code",
   "execution_count": 16,
   "id": "e737f4a7-5883-4a36-8cf0-ea0a21144f14",
   "metadata": {},
   "outputs": [
    {
     "name": "stdin",
     "output_type": "stream",
     "text": [
      "Enter a string:  Pwskills\n"
     ]
    }
   ],
   "source": [
    "# Get user input for a string\n",
    "original_string = input(\"Enter a string: \")"
   ]
  },
  {
   "cell_type": "code",
   "execution_count": 17,
   "id": "c9b7c688-bad1-443b-b545-5c7d4126823a",
   "metadata": {},
   "outputs": [],
   "source": [
    "# Reverse the string using string slicing\n",
    "reversed_string = original_string[::-1]"
   ]
  },
  {
   "cell_type": "code",
   "execution_count": 18,
   "id": "7174171a-f415-43a2-bfac-9e9fe4a6c7d7",
   "metadata": {},
   "outputs": [
    {
     "data": {
      "text/plain": [
       "'sllikswP'"
      ]
     },
     "execution_count": 18,
     "metadata": {},
     "output_type": "execute_result"
    }
   ],
   "source": [
    "reversed_string"
   ]
  },
  {
   "cell_type": "code",
   "execution_count": 22,
   "id": "645908de-5f5d-4443-ab94-718d863cf058",
   "metadata": {},
   "outputs": [
    {
     "name": "stdin",
     "output_type": "stream",
     "text": [
      "Enter a string:  aba\n"
     ]
    }
   ],
   "source": [
    "# Get user input for a string\n",
    "input_string = input(\"Enter a string: \")"
   ]
  },
  {
   "cell_type": "code",
   "execution_count": 23,
   "id": "6d585f83-679b-42ec-8a2a-c3a6302c55e7",
   "metadata": {},
   "outputs": [],
   "source": [
    "# Remove spaces and convert to lowercase for case-insensitive comparison\n",
    "cleaned_string = input_string.replace(\" \", \"\").lower()"
   ]
  },
  {
   "cell_type": "code",
   "execution_count": 24,
   "id": "1a6f07eb-5595-43c9-acd0-9b5c2598737c",
   "metadata": {},
   "outputs": [
    {
     "name": "stdout",
     "output_type": "stream",
     "text": [
      "The input is a palindrome.\n"
     ]
    }
   ],
   "source": [
    "if cleaned_string == cleaned_string[::-1]:\n",
    "    print(\"The input is a palindrome.\")\n",
    "else:\n",
    "    print(\"The input is not a palindrome.\")"
   ]
  },
  {
   "cell_type": "code",
   "execution_count": 25,
   "id": "814cb576-a180-4431-b4fa-aeae845cb5ed",
   "metadata": {},
   "outputs": [
    {
     "name": "stdin",
     "output_type": "stream",
     "text": [
      "Enter a string:  asdjbh askjfb\n"
     ]
    }
   ],
   "source": [
    "# Get user input for a string\n",
    "input_string = input(\"Enter a string: \")\n"
   ]
  },
  {
   "cell_type": "code",
   "execution_count": 27,
   "id": "a7bc09e6-727b-43af-8330-0d5875100a2b",
   "metadata": {},
   "outputs": [],
   "source": [
    "cleaned_string = input_string.replace(\" \", \"\").lower()"
   ]
  },
  {
   "cell_type": "code",
   "execution_count": 28,
   "id": "fca4f019-d306-4ebf-ac82-0021bed66d19",
   "metadata": {},
   "outputs": [
    {
     "data": {
      "text/plain": [
       "'asdjbhaskjfb'"
      ]
     },
     "execution_count": 28,
     "metadata": {},
     "output_type": "execute_result"
    }
   ],
   "source": [
    "cleaned_string"
   ]
  }
 ],
 "metadata": {
  "kernelspec": {
   "display_name": "Python 3 (ipykernel)",
   "language": "python",
   "name": "python3"
  },
  "language_info": {
   "codemirror_mode": {
    "name": "ipython",
    "version": 3
   },
   "file_extension": ".py",
   "mimetype": "text/x-python",
   "name": "python",
   "nbconvert_exporter": "python",
   "pygments_lexer": "ipython3",
   "version": "3.10.8"
  }
 },
 "nbformat": 4,
 "nbformat_minor": 5
}
